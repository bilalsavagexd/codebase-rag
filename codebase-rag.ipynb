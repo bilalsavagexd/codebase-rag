{
  "nbformat": 4,
  "nbformat_minor": 0,
  "metadata": {
    "colab": {
      "provenance": []
    },
    "kernelspec": {
      "name": "python3",
      "display_name": "Python 3"
    },
    "language_info": {
      "name": "python"
    }
  },
  "cells": [
    {
      "cell_type": "markdown",
      "source": [
        "# GitRAG - CodeBase Retrieval Augmented Generation"
      ],
      "metadata": {
        "id": "AEqCDMt8wR3B"
      }
    },
    {
      "cell_type": "markdown",
      "source": [
        "## 1. Importing Dependencies"
      ],
      "metadata": {
        "id": "XaTkgtM0wgRW"
      }
    },
    {
      "cell_type": "code",
      "source": [
        "! pip install pygithub langchain langchain-community pinecone-client langchain-pinecone sentence-transformers gitpython"
      ],
      "metadata": {
        "colab": {
          "base_uri": "https://localhost:8080/"
        },
        "id": "F0B7CaA_wmM5",
        "outputId": "bdc4be83-7991-4b15-ff16-bc414e398ed0"
      },
      "execution_count": 82,
      "outputs": [
        {
          "output_type": "stream",
          "name": "stdout",
          "text": [
            "Requirement already satisfied: pygithub in /usr/local/lib/python3.11/dist-packages (2.5.0)\n",
            "Requirement already satisfied: langchain in /usr/local/lib/python3.11/dist-packages (0.3.18)\n",
            "Requirement already satisfied: langchain-community in /usr/local/lib/python3.11/dist-packages (0.3.17)\n",
            "Requirement already satisfied: pinecone-client in /usr/local/lib/python3.11/dist-packages (5.0.1)\n",
            "Requirement already satisfied: langchain-pinecone in /usr/local/lib/python3.11/dist-packages (0.2.0)\n",
            "Requirement already satisfied: sentence-transformers in /usr/local/lib/python3.11/dist-packages (3.4.1)\n",
            "Requirement already satisfied: gitpython in /usr/local/lib/python3.11/dist-packages (3.1.44)\n",
            "Requirement already satisfied: pynacl>=1.4.0 in /usr/local/lib/python3.11/dist-packages (from pygithub) (1.5.0)\n",
            "Requirement already satisfied: requests>=2.14.0 in /usr/local/lib/python3.11/dist-packages (from pygithub) (2.32.3)\n",
            "Requirement already satisfied: pyjwt>=2.4.0 in /usr/local/lib/python3.11/dist-packages (from pyjwt[crypto]>=2.4.0->pygithub) (2.10.1)\n",
            "Requirement already satisfied: typing-extensions>=4.0.0 in /usr/local/lib/python3.11/dist-packages (from pygithub) (4.12.2)\n",
            "Requirement already satisfied: urllib3>=1.26.0 in /usr/local/lib/python3.11/dist-packages (from pygithub) (2.3.0)\n",
            "Requirement already satisfied: Deprecated in /usr/local/lib/python3.11/dist-packages (from pygithub) (1.2.18)\n",
            "Requirement already satisfied: langchain-core<1.0.0,>=0.3.34 in /usr/local/lib/python3.11/dist-packages (from langchain) (0.3.35)\n",
            "Requirement already satisfied: langchain-text-splitters<1.0.0,>=0.3.6 in /usr/local/lib/python3.11/dist-packages (from langchain) (0.3.6)\n",
            "Requirement already satisfied: langsmith<0.4,>=0.1.17 in /usr/local/lib/python3.11/dist-packages (from langchain) (0.3.8)\n",
            "Requirement already satisfied: pydantic<3.0.0,>=2.7.4 in /usr/local/lib/python3.11/dist-packages (from langchain) (2.10.6)\n",
            "Requirement already satisfied: SQLAlchemy<3,>=1.4 in /usr/local/lib/python3.11/dist-packages (from langchain) (2.0.38)\n",
            "Requirement already satisfied: PyYAML>=5.3 in /usr/local/lib/python3.11/dist-packages (from langchain) (6.0.2)\n",
            "Requirement already satisfied: aiohttp<4.0.0,>=3.8.3 in /usr/local/lib/python3.11/dist-packages (from langchain) (3.9.5)\n",
            "Requirement already satisfied: tenacity!=8.4.0,<10,>=8.1.0 in /usr/local/lib/python3.11/dist-packages (from langchain) (9.0.0)\n",
            "Requirement already satisfied: numpy<2,>=1.26.4 in /usr/local/lib/python3.11/dist-packages (from langchain) (1.26.4)\n",
            "Requirement already satisfied: dataclasses-json<0.7,>=0.5.7 in /usr/local/lib/python3.11/dist-packages (from langchain-community) (0.6.7)\n",
            "Requirement already satisfied: pydantic-settings<3.0.0,>=2.4.0 in /usr/local/lib/python3.11/dist-packages (from langchain-community) (2.7.1)\n",
            "Requirement already satisfied: httpx-sse<1.0.0,>=0.4.0 in /usr/local/lib/python3.11/dist-packages (from langchain-community) (0.4.0)\n",
            "Requirement already satisfied: certifi>=2019.11.17 in /usr/local/lib/python3.11/dist-packages (from pinecone-client) (2025.1.31)\n",
            "Requirement already satisfied: pinecone-plugin-inference<2.0.0,>=1.0.3 in /usr/local/lib/python3.11/dist-packages (from pinecone-client) (1.1.0)\n",
            "Requirement already satisfied: pinecone-plugin-interface<0.0.8,>=0.0.7 in /usr/local/lib/python3.11/dist-packages (from pinecone-client) (0.0.7)\n",
            "Requirement already satisfied: tqdm>=4.64.1 in /usr/local/lib/python3.11/dist-packages (from pinecone-client) (4.67.1)\n",
            "Requirement already satisfied: transformers<5.0.0,>=4.41.0 in /usr/local/lib/python3.11/dist-packages (from sentence-transformers) (4.48.3)\n",
            "Requirement already satisfied: torch>=1.11.0 in /usr/local/lib/python3.11/dist-packages (from sentence-transformers) (2.5.1+cu124)\n",
            "Requirement already satisfied: scikit-learn in /usr/local/lib/python3.11/dist-packages (from sentence-transformers) (1.6.1)\n",
            "Requirement already satisfied: scipy in /usr/local/lib/python3.11/dist-packages (from sentence-transformers) (1.13.1)\n",
            "Requirement already satisfied: huggingface-hub>=0.20.0 in /usr/local/lib/python3.11/dist-packages (from sentence-transformers) (0.28.1)\n",
            "Requirement already satisfied: Pillow in /usr/local/lib/python3.11/dist-packages (from sentence-transformers) (11.1.0)\n",
            "Requirement already satisfied: gitdb<5,>=4.0.1 in /usr/local/lib/python3.11/dist-packages (from gitpython) (4.0.12)\n",
            "Requirement already satisfied: aiosignal>=1.1.2 in /usr/local/lib/python3.11/dist-packages (from aiohttp<4.0.0,>=3.8.3->langchain) (1.3.2)\n",
            "Requirement already satisfied: attrs>=17.3.0 in /usr/local/lib/python3.11/dist-packages (from aiohttp<4.0.0,>=3.8.3->langchain) (25.1.0)\n",
            "Requirement already satisfied: frozenlist>=1.1.1 in /usr/local/lib/python3.11/dist-packages (from aiohttp<4.0.0,>=3.8.3->langchain) (1.5.0)\n",
            "Requirement already satisfied: multidict<7.0,>=4.5 in /usr/local/lib/python3.11/dist-packages (from aiohttp<4.0.0,>=3.8.3->langchain) (6.1.0)\n",
            "Requirement already satisfied: yarl<2.0,>=1.0 in /usr/local/lib/python3.11/dist-packages (from aiohttp<4.0.0,>=3.8.3->langchain) (1.18.3)\n",
            "Requirement already satisfied: marshmallow<4.0.0,>=3.18.0 in /usr/local/lib/python3.11/dist-packages (from dataclasses-json<0.7,>=0.5.7->langchain-community) (3.26.1)\n",
            "Requirement already satisfied: typing-inspect<1,>=0.4.0 in /usr/local/lib/python3.11/dist-packages (from dataclasses-json<0.7,>=0.5.7->langchain-community) (0.9.0)\n",
            "Requirement already satisfied: smmap<6,>=3.0.1 in /usr/local/lib/python3.11/dist-packages (from gitdb<5,>=4.0.1->gitpython) (5.0.2)\n",
            "Requirement already satisfied: filelock in /usr/local/lib/python3.11/dist-packages (from huggingface-hub>=0.20.0->sentence-transformers) (3.17.0)\n",
            "Requirement already satisfied: fsspec>=2023.5.0 in /usr/local/lib/python3.11/dist-packages (from huggingface-hub>=0.20.0->sentence-transformers) (2024.10.0)\n",
            "Requirement already satisfied: packaging>=20.9 in /usr/local/lib/python3.11/dist-packages (from huggingface-hub>=0.20.0->sentence-transformers) (24.2)\n",
            "Requirement already satisfied: jsonpatch<2.0,>=1.33 in /usr/local/lib/python3.11/dist-packages (from langchain-core<1.0.0,>=0.3.34->langchain) (1.33)\n",
            "Requirement already satisfied: httpx<1,>=0.23.0 in /usr/local/lib/python3.11/dist-packages (from langsmith<0.4,>=0.1.17->langchain) (0.28.1)\n",
            "Requirement already satisfied: orjson<4.0.0,>=3.9.14 in /usr/local/lib/python3.11/dist-packages (from langsmith<0.4,>=0.1.17->langchain) (3.10.15)\n",
            "Requirement already satisfied: requests-toolbelt<2.0.0,>=1.0.0 in /usr/local/lib/python3.11/dist-packages (from langsmith<0.4,>=0.1.17->langchain) (1.0.0)\n",
            "Requirement already satisfied: zstandard<0.24.0,>=0.23.0 in /usr/local/lib/python3.11/dist-packages (from langsmith<0.4,>=0.1.17->langchain) (0.23.0)\n",
            "Requirement already satisfied: annotated-types>=0.6.0 in /usr/local/lib/python3.11/dist-packages (from pydantic<3.0.0,>=2.7.4->langchain) (0.7.0)\n",
            "Requirement already satisfied: pydantic-core==2.27.2 in /usr/local/lib/python3.11/dist-packages (from pydantic<3.0.0,>=2.7.4->langchain) (2.27.2)\n",
            "Requirement already satisfied: python-dotenv>=0.21.0 in /usr/local/lib/python3.11/dist-packages (from pydantic-settings<3.0.0,>=2.4.0->langchain-community) (1.0.1)\n",
            "Requirement already satisfied: cryptography>=3.4.0 in /usr/local/lib/python3.11/dist-packages (from pyjwt[crypto]>=2.4.0->pygithub) (43.0.3)\n",
            "Requirement already satisfied: cffi>=1.4.1 in /usr/local/lib/python3.11/dist-packages (from pynacl>=1.4.0->pygithub) (1.17.1)\n",
            "Requirement already satisfied: charset-normalizer<4,>=2 in /usr/local/lib/python3.11/dist-packages (from requests>=2.14.0->pygithub) (3.4.1)\n",
            "Requirement already satisfied: idna<4,>=2.5 in /usr/local/lib/python3.11/dist-packages (from requests>=2.14.0->pygithub) (3.10)\n",
            "Requirement already satisfied: greenlet!=0.4.17 in /usr/local/lib/python3.11/dist-packages (from SQLAlchemy<3,>=1.4->langchain) (3.1.1)\n",
            "Requirement already satisfied: networkx in /usr/local/lib/python3.11/dist-packages (from torch>=1.11.0->sentence-transformers) (3.4.2)\n",
            "Requirement already satisfied: jinja2 in /usr/local/lib/python3.11/dist-packages (from torch>=1.11.0->sentence-transformers) (3.1.5)\n",
            "Requirement already satisfied: nvidia-cuda-nvrtc-cu12==12.4.127 in /usr/local/lib/python3.11/dist-packages (from torch>=1.11.0->sentence-transformers) (12.4.127)\n",
            "Requirement already satisfied: nvidia-cuda-runtime-cu12==12.4.127 in /usr/local/lib/python3.11/dist-packages (from torch>=1.11.0->sentence-transformers) (12.4.127)\n",
            "Requirement already satisfied: nvidia-cuda-cupti-cu12==12.4.127 in /usr/local/lib/python3.11/dist-packages (from torch>=1.11.0->sentence-transformers) (12.4.127)\n",
            "Requirement already satisfied: nvidia-cudnn-cu12==9.1.0.70 in /usr/local/lib/python3.11/dist-packages (from torch>=1.11.0->sentence-transformers) (9.1.0.70)\n",
            "Requirement already satisfied: nvidia-cublas-cu12==12.4.5.8 in /usr/local/lib/python3.11/dist-packages (from torch>=1.11.0->sentence-transformers) (12.4.5.8)\n",
            "Requirement already satisfied: nvidia-cufft-cu12==11.2.1.3 in /usr/local/lib/python3.11/dist-packages (from torch>=1.11.0->sentence-transformers) (11.2.1.3)\n",
            "Requirement already satisfied: nvidia-curand-cu12==10.3.5.147 in /usr/local/lib/python3.11/dist-packages (from torch>=1.11.0->sentence-transformers) (10.3.5.147)\n",
            "Requirement already satisfied: nvidia-cusolver-cu12==11.6.1.9 in /usr/local/lib/python3.11/dist-packages (from torch>=1.11.0->sentence-transformers) (11.6.1.9)\n",
            "Requirement already satisfied: nvidia-cusparse-cu12==12.3.1.170 in /usr/local/lib/python3.11/dist-packages (from torch>=1.11.0->sentence-transformers) (12.3.1.170)\n",
            "Requirement already satisfied: nvidia-nccl-cu12==2.21.5 in /usr/local/lib/python3.11/dist-packages (from torch>=1.11.0->sentence-transformers) (2.21.5)\n",
            "Requirement already satisfied: nvidia-nvtx-cu12==12.4.127 in /usr/local/lib/python3.11/dist-packages (from torch>=1.11.0->sentence-transformers) (12.4.127)\n",
            "Requirement already satisfied: nvidia-nvjitlink-cu12==12.4.127 in /usr/local/lib/python3.11/dist-packages (from torch>=1.11.0->sentence-transformers) (12.4.127)\n",
            "Requirement already satisfied: triton==3.1.0 in /usr/local/lib/python3.11/dist-packages (from torch>=1.11.0->sentence-transformers) (3.1.0)\n",
            "Requirement already satisfied: sympy==1.13.1 in /usr/local/lib/python3.11/dist-packages (from torch>=1.11.0->sentence-transformers) (1.13.1)\n",
            "Requirement already satisfied: mpmath<1.4,>=1.1.0 in /usr/local/lib/python3.11/dist-packages (from sympy==1.13.1->torch>=1.11.0->sentence-transformers) (1.3.0)\n",
            "Requirement already satisfied: regex!=2019.12.17 in /usr/local/lib/python3.11/dist-packages (from transformers<5.0.0,>=4.41.0->sentence-transformers) (2024.11.6)\n",
            "Requirement already satisfied: tokenizers<0.22,>=0.21 in /usr/local/lib/python3.11/dist-packages (from transformers<5.0.0,>=4.41.0->sentence-transformers) (0.21.0)\n",
            "Requirement already satisfied: safetensors>=0.4.1 in /usr/local/lib/python3.11/dist-packages (from transformers<5.0.0,>=4.41.0->sentence-transformers) (0.5.2)\n",
            "Requirement already satisfied: wrapt<2,>=1.10 in /usr/local/lib/python3.11/dist-packages (from Deprecated->pygithub) (1.17.2)\n",
            "Requirement already satisfied: joblib>=1.2.0 in /usr/local/lib/python3.11/dist-packages (from scikit-learn->sentence-transformers) (1.4.2)\n",
            "Requirement already satisfied: threadpoolctl>=3.1.0 in /usr/local/lib/python3.11/dist-packages (from scikit-learn->sentence-transformers) (3.5.0)\n",
            "Requirement already satisfied: pycparser in /usr/local/lib/python3.11/dist-packages (from cffi>=1.4.1->pynacl>=1.4.0->pygithub) (2.22)\n",
            "Requirement already satisfied: anyio in /usr/local/lib/python3.11/dist-packages (from httpx<1,>=0.23.0->langsmith<0.4,>=0.1.17->langchain) (3.7.1)\n",
            "Requirement already satisfied: httpcore==1.* in /usr/local/lib/python3.11/dist-packages (from httpx<1,>=0.23.0->langsmith<0.4,>=0.1.17->langchain) (1.0.7)\n",
            "Requirement already satisfied: h11<0.15,>=0.13 in /usr/local/lib/python3.11/dist-packages (from httpcore==1.*->httpx<1,>=0.23.0->langsmith<0.4,>=0.1.17->langchain) (0.14.0)\n",
            "Requirement already satisfied: jsonpointer>=1.9 in /usr/local/lib/python3.11/dist-packages (from jsonpatch<2.0,>=1.33->langchain-core<1.0.0,>=0.3.34->langchain) (3.0.0)\n",
            "Requirement already satisfied: mypy-extensions>=0.3.0 in /usr/local/lib/python3.11/dist-packages (from typing-inspect<1,>=0.4.0->dataclasses-json<0.7,>=0.5.7->langchain-community) (1.0.0)\n",
            "Requirement already satisfied: propcache>=0.2.0 in /usr/local/lib/python3.11/dist-packages (from yarl<2.0,>=1.0->aiohttp<4.0.0,>=3.8.3->langchain) (0.2.1)\n",
            "Requirement already satisfied: MarkupSafe>=2.0 in /usr/local/lib/python3.11/dist-packages (from jinja2->torch>=1.11.0->sentence-transformers) (3.0.2)\n",
            "Requirement already satisfied: sniffio>=1.1 in /usr/local/lib/python3.11/dist-packages (from anyio->httpx<1,>=0.23.0->langsmith<0.4,>=0.1.17->langchain) (1.3.1)\n"
          ]
        }
      ]
    },
    {
      "cell_type": "code",
      "execution_count": 83,
      "metadata": {
        "id": "EenK-hVkwJDe"
      },
      "outputs": [],
      "source": [
        "import os\n",
        "import tempfile\n",
        "from git import Repo\n",
        "from google import genai\n",
        "from pathlib import Path\n",
        "from pinecone import Pinecone\n",
        "from google.colab import userdata\n",
        "from langchain.schema import Document\n",
        "from langchain_pinecone import PineconeVectorStore\n",
        "from langchain_community.embeddings import HuggingFaceEmbeddings"
      ]
    },
    {
      "cell_type": "markdown",
      "source": [
        "## 2. Retrieving Github Repo. Contents"
      ],
      "metadata": {
        "id": "eJrC5EQg_T6f"
      }
    },
    {
      "cell_type": "code",
      "source": [
        "def clone_repository(repo_url):\n",
        "    \"\"\"Clones a GitHub repository to a temporary directory.\"\"\"\n",
        "    repo_name = repo_url.split(\"/\")[-1]\n",
        "    repo_path = f\"/content/{repo_name}\"\n",
        "    Repo.clone_from(repo_url, str(repo_path))\n",
        "    return str(repo_path)"
      ],
      "metadata": {
        "id": "2Zy0mR4yxebZ"
      },
      "execution_count": 84,
      "outputs": []
    },
    {
      "cell_type": "code",
      "source": [
        "SUPPORTED_EXTENSIONS = {'.py', '.js', '.tsx', '.jsx', '.ipynb', '.java',\n",
        "                       '.cpp', '.ts', '.go', '.rs', '.vue', '.swift', '.c', '.h'}\n",
        "\n",
        "IGNORED_DIRS = {'node_modules', 'venv', 'env', 'dist', 'build', '.git',\n",
        "                '__pycache__', '.next', '.vscode', 'vendor'}"
      ],
      "metadata": {
        "id": "t1uBGK-z_eg0"
      },
      "execution_count": 85,
      "outputs": []
    },
    {
      "cell_type": "code",
      "source": [
        "def get_file_content(file_path, repo_path):\n",
        "    \"\"\"Get content of a single file.\"\"\"\n",
        "    try:\n",
        "        with open(file_path, 'r', encoding='utf-8') as f:\n",
        "            content = f.read()\n",
        "        rel_path = os.path.relpath(file_path, repo_path)\n",
        "        return {\n",
        "            \"name\": rel_path,\n",
        "            \"content\": content\n",
        "        }\n",
        "    except UnicodeDecodeError:\n",
        "        print(f\"Skipping file {file_path} due to encoding issues.\")\n",
        "        return None\n",
        "    except Exception as e:\n",
        "        print(f\"Error processing file {file_path}: {str(e)}\")\n",
        "        return None\n",
        "\n",
        "def get_main_files_content(repo_path: str):\n",
        "    \"\"\"Get content of supported code files from the local repository.\"\"\"\n",
        "    files_content = []\n",
        "    try:\n",
        "        for root, _, files in os.walk(repo_path):\n",
        "            if os.path.basename(root) in IGNORED_DIRS:\n",
        "                print(f\"Skipping directory: {root}\")\n",
        "                continue\n",
        "            for file in files:\n",
        "                file_path = os.path.join(root, file)\n",
        "                file_ext = os.path.splitext(file)[1]\n",
        "                if file_ext in SUPPORTED_EXTENSIONS:\n",
        "                    print(f\"Processing file: {file_path}\")\n",
        "                    file_content = get_file_content(file_path, repo_path)\n",
        "                    if file_content:\n",
        "                        files_content.append(file_content)\n",
        "                else:\n",
        "                    print(f\"Skipping unsupported file: {file_path}\")\n",
        "    except Exception as e:\n",
        "        print(f\"Error reading repository: {str(e)}\")\n",
        "    return files_content"
      ],
      "metadata": {
        "id": "8TVfWQak_gjU"
      },
      "execution_count": 86,
      "outputs": []
    },
    {
      "cell_type": "code",
      "source": [
        "# Clone and process repository\n",
        "gitrepo = \"https://github.com/bilalsavagexd/Frequency-Analysis.git\"\n",
        "path = clone_repository(gitrepo)\n",
        "file_content = get_main_files_content(path)"
      ],
      "metadata": {
        "id": "dFbLOVyJ_qhY",
        "colab": {
          "base_uri": "https://localhost:8080/"
        },
        "outputId": "ffabc415-9c1e-419b-94a4-5e9c49fed875"
      },
      "execution_count": 87,
      "outputs": [
        {
          "output_type": "stream",
          "name": "stdout",
          "text": [
            "Skipping unsupported file: /content/Frequency-Analysis.git/README.md\n",
            "Processing file: /content/Frequency-Analysis.git/frequency-analysis.py\n",
            "Skipping directory: /content/Frequency-Analysis.git/.git\n",
            "Skipping unsupported file: /content/Frequency-Analysis.git/.git/refs/heads/main\n",
            "Skipping unsupported file: /content/Frequency-Analysis.git/.git/refs/remotes/origin/HEAD\n",
            "Skipping unsupported file: /content/Frequency-Analysis.git/.git/hooks/pre-applypatch.sample\n",
            "Skipping unsupported file: /content/Frequency-Analysis.git/.git/hooks/pre-receive.sample\n",
            "Skipping unsupported file: /content/Frequency-Analysis.git/.git/hooks/commit-msg.sample\n",
            "Skipping unsupported file: /content/Frequency-Analysis.git/.git/hooks/pre-push.sample\n",
            "Skipping unsupported file: /content/Frequency-Analysis.git/.git/hooks/applypatch-msg.sample\n",
            "Skipping unsupported file: /content/Frequency-Analysis.git/.git/hooks/pre-merge-commit.sample\n",
            "Skipping unsupported file: /content/Frequency-Analysis.git/.git/hooks/prepare-commit-msg.sample\n",
            "Skipping unsupported file: /content/Frequency-Analysis.git/.git/hooks/pre-rebase.sample\n",
            "Skipping unsupported file: /content/Frequency-Analysis.git/.git/hooks/push-to-checkout.sample\n",
            "Skipping unsupported file: /content/Frequency-Analysis.git/.git/hooks/fsmonitor-watchman.sample\n",
            "Skipping unsupported file: /content/Frequency-Analysis.git/.git/hooks/post-update.sample\n",
            "Skipping unsupported file: /content/Frequency-Analysis.git/.git/hooks/pre-commit.sample\n",
            "Skipping unsupported file: /content/Frequency-Analysis.git/.git/hooks/update.sample\n",
            "Skipping unsupported file: /content/Frequency-Analysis.git/.git/objects/pack/pack-40f3b0c0a2d28d903af76c143f52a1136e07ec66.pack\n",
            "Skipping unsupported file: /content/Frequency-Analysis.git/.git/objects/pack/pack-40f3b0c0a2d28d903af76c143f52a1136e07ec66.idx\n",
            "Skipping unsupported file: /content/Frequency-Analysis.git/.git/logs/HEAD\n",
            "Skipping unsupported file: /content/Frequency-Analysis.git/.git/logs/refs/heads/main\n",
            "Skipping unsupported file: /content/Frequency-Analysis.git/.git/logs/refs/remotes/origin/HEAD\n",
            "Skipping unsupported file: /content/Frequency-Analysis.git/.git/info/exclude\n"
          ]
        }
      ]
    },
    {
      "cell_type": "code",
      "source": [
        "# Create documents\n",
        "documents = []\n",
        "for file in file_content:\n",
        "    doc = Document(\n",
        "        page_content=f\"{file['name']}\\n{file['content']}\",\n",
        "        metadata={\"source\": file['name']}\n",
        "    )\n",
        "    documents.append(doc)"
      ],
      "metadata": {
        "id": "ZDCpKuXU_sdZ"
      },
      "execution_count": 88,
      "outputs": []
    },
    {
      "cell_type": "code",
      "source": [
        "documents"
      ],
      "metadata": {
        "colab": {
          "base_uri": "https://localhost:8080/"
        },
        "id": "XshwVmyl0Vhu",
        "outputId": "9b3673af-5f6a-4f50-91ec-3572bdd62480"
      },
      "execution_count": 115,
      "outputs": [
        {
          "output_type": "execute_result",
          "data": {
            "text/plain": [
              "[Document(metadata={'source': 'frequency-analysis.py', 'text': 'frequency-analysis.py\\nfrom collections import Counter \\nimport re\\n\\nTOP_K = 26 \\nN_GRAM = 3\\n\\n# Generate all the n-grams for value n \\n\\ndef ngrams(n, text): \\n    \\n    for i in range(len(text) -n + 1):\\n\\n        # Ignore n-grams containing white space \\n        if not re.search(r\\'\\\\s\\', text[i:i+n]): \\n            yield text[i:i+n]\\n\\n# Read the data from the ciphertext \\n\\nwith open(\\'ciphertext.txt\\') as f: \\n    text = f.read()\\n\\n#Count, sort, and print out the n-grams \\n\\nfor N in range(N_GRAM): \\n    print(\"------------------------------------\")\\n\\n    print(\"{}-gram (top {}):\".format(N+1, TOP_K))\\n\\n    counts = Counter(ngrams (N+1, text)) # Count\\n\\n    sorted_counts = counts.most_common (TOP_K) # Sort \\n    \\n    for ngram, count in sorted_counts: \\n        print(\"{}: {}\".format(ngram, count)) # Print'}, page_content='frequency-analysis.py\\nfrom collections import Counter \\nimport re\\n\\nTOP_K = 26 \\nN_GRAM = 3\\n\\n# Generate all the n-grams for value n \\n\\ndef ngrams(n, text): \\n    \\n    for i in range(len(text) -n + 1):\\n\\n        # Ignore n-grams containing white space \\n        if not re.search(r\\'\\\\s\\', text[i:i+n]): \\n            yield text[i:i+n]\\n\\n# Read the data from the ciphertext \\n\\nwith open(\\'ciphertext.txt\\') as f: \\n    text = f.read()\\n\\n#Count, sort, and print out the n-grams \\n\\nfor N in range(N_GRAM): \\n    print(\"------------------------------------\")\\n\\n    print(\"{}-gram (top {}):\".format(N+1, TOP_K))\\n\\n    counts = Counter(ngrams (N+1, text)) # Count\\n\\n    sorted_counts = counts.most_common (TOP_K) # Sort \\n    \\n    for ngram, count in sorted_counts: \\n        print(\"{}: {}\".format(ngram, count)) # Print')]"
            ]
          },
          "metadata": {},
          "execution_count": 115
        }
      ]
    },
    {
      "cell_type": "markdown",
      "source": [
        "## 3. Initializing Embedding Model"
      ],
      "metadata": {
        "id": "cp3pxLSY0ZS7"
      }
    },
    {
      "cell_type": "code",
      "source": [
        "# Initialize embeddings\n",
        "embeddings = HuggingFaceEmbeddings(\n",
        "    model_name=\"sentence-transformers/all-mpnet-base-v2\"\n",
        ")"
      ],
      "metadata": {
        "id": "6GtPji0eGeMy"
      },
      "execution_count": 89,
      "outputs": []
    },
    {
      "cell_type": "markdown",
      "source": [
        "## 4. Initialize Pinecone to Store Vector Embeddings"
      ],
      "metadata": {
        "id": "5naq5qGX0hf0"
      }
    },
    {
      "cell_type": "code",
      "source": [
        "# Initialize Pinecone\n",
        "pinecone_api_key = userdata.get(\"PINECONE_API_KEY\")\n",
        "os.environ['PINECONE_API_KEY'] = pinecone_api_key\n",
        "pc = Pinecone(api_key=pinecone_api_key)"
      ],
      "metadata": {
        "id": "wYj74HIVtiGd"
      },
      "execution_count": 90,
      "outputs": []
    },
    {
      "cell_type": "code",
      "source": [
        "# Create vector store\n",
        "vectorstore = PineconeVectorStore.from_documents(\n",
        "    documents=documents,\n",
        "    embedding=embeddings,  # Pass the embeddings object, not the encoded documents\n",
        "    index_name=\"codebase-rag\",\n",
        "    namespace=\"https://github.com/bilalsavagexd/Frequency-Analysis.git\"\n",
        ")"
      ],
      "metadata": {
        "id": "7yNEevNktlMi"
      },
      "execution_count": 91,
      "outputs": []
    },
    {
      "cell_type": "markdown",
      "source": [
        "## 5. Performing Retrieval Augmented Generation"
      ],
      "metadata": {
        "id": "9NL3UswS0p2k"
      }
    },
    {
      "cell_type": "code",
      "source": [
        "# Initialize LLM Service Provider\n",
        "gemini_api_key = userdata.get(\"GEMINI_API_KEY\")\n",
        "os.environ['GEMINI_API_KEY'] = gemini_api_key\n",
        "\n",
        "client = genai.Client(api_key = gemini_api_key)"
      ],
      "metadata": {
        "id": "vWT_yJkvvpgm"
      },
      "execution_count": 117,
      "outputs": []
    },
    {
      "cell_type": "code",
      "source": [
        "def perform_rag(query):\n",
        "\n",
        "    # Get embeddings for the User Query\n",
        "    raw_query_embedding = embeddings.embed_query(query)\n",
        "\n",
        "    # Query Pinecone to retrieve top matches through cosing similarity search\n",
        "    top_matches = pinecone_index.query(\n",
        "        vector=raw_query_embedding,\n",
        "        top_k=5,\n",
        "        include_metadata=True,\n",
        "        namespace=\"https://github.com/bilalsavagexd/Frequency-Analysis.git\"\n",
        "    )\n",
        "\n",
        "    # Get the list of retrieved texts\n",
        "    contexts = [item['metadata']['text'] for item in top_matches['matches']]\n",
        "\n",
        "    augmented_query = \"<CONTEXT>\\n\" + \"\\n\\n-------\\n\\n\".join(contexts[:10]) + \"\\n-------\\n</CONTEXT>\\n\\n\\n\\nMY QUESTION:\\n\" + query\n",
        "\n",
        "    # Create the prompt\n",
        "    prompt = f\"\"\"You are a Senior Software Engineer.\n",
        "\n",
        "    Answer the following question about the codebase, based on the code provided. Always consider all of the context provided when forming a response.\n",
        "\n",
        "    {augmented_query}\n",
        "    \"\"\"\n",
        "\n",
        "    try:\n",
        "        # Generate streaming response using Gemini\n",
        "        response = client.models.generate_content_stream(\n",
        "            model=\"gemini-2.0-flash\",\n",
        "            contents=[prompt]  # Note: contents expects a list\n",
        "        )\n",
        "\n",
        "        # Stream the response\n",
        "        for chunk in response:\n",
        "            print(chunk.text, end=\"\")\n",
        "\n",
        "    except Exception as e:\n",
        "        print(f\"An error occurred during generation: {str(e)}\")"
      ],
      "metadata": {
        "id": "YVKOQyoSuboa"
      },
      "execution_count": 118,
      "outputs": []
    },
    {
      "cell_type": "code",
      "source": [
        "perform_rag(\"What is happening in the code?\")"
      ],
      "metadata": {
        "colab": {
          "base_uri": "https://localhost:8080/"
        },
        "id": "gZn0cqCywFU1",
        "outputId": "911c7f4c-e6fe-4f4c-8ca7-9e0abaa1d19c"
      },
      "execution_count": 119,
      "outputs": [
        {
          "output_type": "stream",
          "name": "stdout",
          "text": [
            "The python script `frequency-analysis.py` performs frequency analysis on a ciphertext stored in `ciphertext.txt`. It calculates and displays the most frequent n-grams (sequences of n characters) within the ciphertext.\n",
            "\n",
            "Here's a breakdown:\n",
            "\n",
            "1.  **Imports:** It imports the `Counter` class from the `collections` module, used for counting the occurrences of n-grams, and the `re` module for regular expressions, used to ignore ngrams containing whitespace.\n",
            "2.  **Constants:** Defines `TOP_K` as 26 (to display the top 26 most frequent n-grams) and `N_GRAM` as 3 (to analyze n-grams of length 1, 2, and 3).\n",
            "3.  **`ngrams(n, text)` Function:**\n",
            "    *   Takes the n-gram length `n` and the text `text` as input.\n",
            "    *   Iterates through the text to generate n-grams.\n",
            "    *   Uses a regular expression `re.search(r'\\s', text[i:i+n])` to check if an n-gram contains whitespace. If it does, the n-gram is skipped.\n",
            "    *   `yield` returns the n-gram if it doesn't contain whitespace. `yield` makes this function a generator, producing n-grams one at a time, which is memory efficient.\n",
            "4.  **File Reading:** Reads the entire content of the `ciphertext.txt` file into the `text` variable.\n",
            "5.  **N-gram Analysis Loop:**\n",
            "    *   Iterates from N = 0 to `N_GRAM - 1` (i.e., 0, 1, 2), effectively analyzing 1-grams, 2-grams, and 3-grams.\n",
            "    *   Prints a separator line and a header indicating the n-gram length and the number of top n-grams to be displayed.\n",
            "    *   `counts = Counter(ngrams(N+1, text))`:  Calls the `ngrams` function to generate n-grams of length `N+1` from the text.  The `Counter` object then counts the occurrences of each n-gram.\n",
            "    *   `sorted_counts = counts.most_common(TOP_K)`: Sorts the n-grams by their counts in descending order and retrieves the top `TOP_K` most frequent n-grams along with their counts.\n",
            "    *   The code iterates through the `sorted_counts` and prints each n-gram and its count.\n"
          ]
        }
      ]
    }
  ]
}